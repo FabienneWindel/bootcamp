{
 "cells": [
  {
   "cell_type": "code",
   "execution_count": 132,
   "id": "140b706d-cfef-4a59-af7c-d1b6b7d7e34a",
   "metadata": {
    "tags": []
   },
   "outputs": [
    {
     "name": "stdout",
     "output_type": "stream",
     "text": [
      "17:34:12\n"
     ]
    }
   ],
   "source": [
    "seconds_past_midnight = 63252 \n",
    "\n",
    "hours = seconds_past_midnight // 60**2\n",
    "minutes = (seconds_past_midnight % 60**2) // 60\n",
    "seconds = seconds_past_midnight % 60\n",
    "\n",
    "timestamp = str(hours) + ':' + str(minutes) + ':' + str(seconds)\n",
    "print(timestamp)"
   ]
  },
  {
   "cell_type": "code",
   "execution_count": 127,
   "id": "4583db49-c0d3-443a-8011-629dbc8b7a1a",
   "metadata": {
    "tags": []
   },
   "outputs": [],
   "source": [
    "def complement_base(base, material='DNA'):\n",
    "    \"\"\"Returns the Watson-Crick complement of a base.\"\"\"\n",
    "    if base in 'Aa':\n",
    "        if material == 'DNA':\n",
    "            out = 'T'\n",
    "        elif material == 'RNA':\n",
    "            out = 'U'\n",
    "    elif base in 'TtUu':\n",
    "        out = 'A'\n",
    "    elif base in 'Gg':\n",
    "        out = 'C'\n",
    "    else:\n",
    "        out = 'G'\n",
    "    return out\n",
    "\n",
    "\n",
    "def reverse_complement(seq, material='DNA'):\n",
    "    \"\"\"Compute reverse complement of a sequence.\"\"\"\n",
    "    # Initialize reverse complement\n",
    "    rev_seq = ''\n",
    "\n",
    "    # Loop through and populate list with reverse complement\n",
    "    for base in seq:\n",
    "        rev_seq += complement_base(base, material=material)\n",
    "\n",
    "    return rev_seq [::-1]"
   ]
  },
  {
   "cell_type": "code",
   "execution_count": 58,
   "id": "cbc6e7b5-ffbb-488c-a5a5-6a5385b2530c",
   "metadata": {
    "tags": []
   },
   "outputs": [
    {
     "data": {
      "text/plain": [
       "'TGCAACTGC'"
      ]
     },
     "execution_count": 58,
     "metadata": {},
     "output_type": "execute_result"
    }
   ],
   "source": [
    "reverse_complement('GCAGTTGCA')"
   ]
  },
  {
   "cell_type": "code",
   "execution_count": 61,
   "id": "5b48b0a1-c521-4138-8a45-c6ec991a46b0",
   "metadata": {},
   "outputs": [],
   "source": [
    "def complement_base(base, material='DNA'):\n",
    "    \"\"\"Returns the Watson-Crick complement of a base.\"\"\"\n",
    "    if base in 'Aa':\n",
    "        if material == 'DNA':\n",
    "            out = 'T'\n",
    "        elif material == 'RNA':\n",
    "            out = 'U'\n",
    "    elif base in 'TtUu':\n",
    "        out = 'A'\n",
    "    elif base in 'Gg':\n",
    "        out = 'C'\n",
    "    else:\n",
    "        out = 'G'\n",
    "    return out\n",
    "\n",
    "\n",
    "def reverse_complement(seq, material='DNA'):\n",
    "    \n",
    "    if material == 'DNA':\n",
    "        complement_table = str.maketrans('ATCG', 'TAGC')\n",
    "    elif material == 'RNA':\n",
    "        complement_table = str.maketrans('AUCG', 'UAGC')\n",
    "    \n",
    "    # Compute the complemented sequence and reverse it\n",
    "    complemented_seq = seq.translate(complement_table)\n",
    "    rev_seq = complemented_seq[::-1]\n",
    "\n",
    "    return rev_seq"
   ]
  },
  {
   "cell_type": "code",
   "execution_count": 62,
   "id": "a4638d25-49d8-46dc-8234-a66f47a71fb6",
   "metadata": {
    "tags": []
   },
   "outputs": [
    {
     "data": {
      "text/plain": [
       "'TGCAACTGC'"
      ]
     },
     "execution_count": 62,
     "metadata": {},
     "output_type": "execute_result"
    }
   ],
   "source": [
    "reverse_complement('GCAGTTGCA')"
   ]
  },
  {
   "cell_type": "code",
   "execution_count": 118,
   "id": "ecaab758-e4d8-47a9-81ba-b9787392551e",
   "metadata": {
    "tags": []
   },
   "outputs": [],
   "source": [
    "def longest_common_substring(s1, s2):\n",
    "    if len(s1) > len(s2):\n",
    "        reference = s1\n",
    "        iterator = s2\n",
    "    else:\n",
    "        reference = s2\n",
    "        iterator = s1\n",
    "    print(reference, iterator)\n",
    "        \n",
    "    for tester in range(len(iterator), 1, -1):\n",
    "        for start in range(0, len(iterator)-tester + 1, 1):\n",
    "            end = start + tester\n",
    "            if iterator[start:end] in reference:\n",
    "                return iterator [start:end]"
   ]
  },
  {
   "cell_type": "code",
   "execution_count": 119,
   "id": "06f8bbe5-80d3-4dd4-91b8-b4339c8965bc",
   "metadata": {
    "tags": []
   },
   "outputs": [
    {
     "name": "stdout",
     "output_type": "stream",
     "text": [
      "ATGCA ATGC\n"
     ]
    },
    {
     "data": {
      "text/plain": [
       "'ATGC'"
      ]
     },
     "execution_count": 119,
     "metadata": {},
     "output_type": "execute_result"
    }
   ],
   "source": [
    "longest_common_substring('ATGC', 'ATGCA')"
   ]
  },
  {
   "cell_type": "code",
   "execution_count": 120,
   "id": "c92b9f98-fabc-4594-8783-1ff6de73b807",
   "metadata": {
    "tags": []
   },
   "outputs": [
    {
     "name": "stdout",
     "output_type": "stream",
     "text": [
      "GATGCCATGCA ATGCC\n"
     ]
    },
    {
     "data": {
      "text/plain": [
       "'ATGCC'"
      ]
     },
     "execution_count": 120,
     "metadata": {},
     "output_type": "execute_result"
    }
   ],
   "source": [
    "longest_common_substring('GATGCCATGCA', 'ATGCC')"
   ]
  },
  {
   "cell_type": "code",
   "execution_count": 121,
   "id": "d461a83d-eac2-4ad5-83d9-2762784c437f",
   "metadata": {
    "tags": []
   },
   "outputs": [
    {
     "name": "stdout",
     "output_type": "stream",
     "text": [
      "GTACACACGTTTTGAGAGACAC ACGTGGAAAGCCA\n"
     ]
    },
    {
     "data": {
      "text/plain": [
       "'ACGT'"
      ]
     },
     "execution_count": 121,
     "metadata": {},
     "output_type": "execute_result"
    }
   ],
   "source": [
    "longest_common_substring('ACGTGGAAAGCCA', 'GTACACACGTTTTGAGAGACAC')"
   ]
  }
 ],
 "metadata": {
  "kernelspec": {
   "display_name": "Python 3 (ipykernel)",
   "language": "python",
   "name": "python3"
  },
  "language_info": {
   "codemirror_mode": {
    "name": "ipython",
    "version": 3
   },
   "file_extension": ".py",
   "mimetype": "text/x-python",
   "name": "python",
   "nbconvert_exporter": "python",
   "pygments_lexer": "ipython3",
   "version": "3.11.4"
  }
 },
 "nbformat": 4,
 "nbformat_minor": 5
}
