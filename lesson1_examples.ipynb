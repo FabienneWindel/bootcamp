{
 "cells": [
  {
   "cell_type": "code",
   "execution_count": 5,
   "id": "0982f19d-0ced-4945-ba53-c813636d73c8",
   "metadata": {
    "tags": []
   },
   "outputs": [
    {
     "data": {
      "text/plain": [
       "int"
      ]
     },
     "execution_count": 5,
     "metadata": {},
     "output_type": "execute_result"
    }
   ],
   "source": [
    "type(5)"
   ]
  },
  {
   "cell_type": "code",
   "execution_count": 6,
   "id": "7b6c93a5-157d-4ec7-8205-08ff5dc092a7",
   "metadata": {
    "tags": []
   },
   "outputs": [
    {
     "data": {
      "text/plain": [
       "float"
      ]
     },
     "execution_count": 6,
     "metadata": {},
     "output_type": "execute_result"
    }
   ],
   "source": [
    "type(2.3)"
   ]
  },
  {
   "cell_type": "code",
   "execution_count": 8,
   "id": "ae2346de-f400-44df-96ca-0f867ffadcbd",
   "metadata": {
    "tags": []
   },
   "outputs": [
    {
     "data": {
      "text/plain": [
       "str"
      ]
     },
     "execution_count": 8,
     "metadata": {},
     "output_type": "execute_result"
    }
   ],
   "source": [
    "type(\"a\")"
   ]
  },
  {
   "cell_type": "code",
   "execution_count": 9,
   "id": "44251525-a541-4234-a634-fc5d7059f896",
   "metadata": {
    "tags": []
   },
   "outputs": [
    {
     "data": {
      "text/plain": [
       "float"
      ]
     },
     "execution_count": 9,
     "metadata": {},
     "output_type": "execute_result"
    }
   ],
   "source": [
    "type(4.5e-7)"
   ]
  },
  {
   "cell_type": "code",
   "execution_count": 11,
   "id": "df9f2f0a-4a48-4c02-b14c-6898122b4f5f",
   "metadata": {
    "tags": []
   },
   "outputs": [
    {
     "name": "stdout",
     "output_type": "stream",
     "text": [
      "It was the best times, \n",
      "it was the worst times...\n"
     ]
    }
   ],
   "source": [
    "my_str = '''It was the best times, \n",
    "it was the worst times...'''\n",
    "\n",
    "print(my_str)"
   ]
  },
  {
   "cell_type": "code",
   "execution_count": 12,
   "id": "43ce0db0-91b4-46db-be9f-b886de98d546",
   "metadata": {
    "tags": []
   },
   "outputs": [
    {
     "data": {
      "text/plain": [
       "15"
      ]
     },
     "execution_count": 12,
     "metadata": {},
     "output_type": "execute_result"
    }
   ],
   "source": [
    "6 + 9 "
   ]
  },
  {
   "cell_type": "code",
   "execution_count": 13,
   "id": "024a2a8e-f3e0-440c-9b97-af3ec0788095",
   "metadata": {
    "tags": []
   },
   "outputs": [
    {
     "data": {
      "text/plain": [
       "54"
      ]
     },
     "execution_count": 13,
     "metadata": {},
     "output_type": "execute_result"
    }
   ],
   "source": [
    "6 * 9"
   ]
  },
  {
   "cell_type": "code",
   "execution_count": 14,
   "id": "8033203b-0d08-420c-aec6-424e6e6dbada",
   "metadata": {
    "tags": []
   },
   "outputs": [
    {
     "data": {
      "text/plain": [
       "0.6666666666666666"
      ]
     },
     "execution_count": 14,
     "metadata": {},
     "output_type": "execute_result"
    }
   ],
   "source": [
    "6 / 9"
   ]
  },
  {
   "cell_type": "code",
   "execution_count": 15,
   "id": "c0e3a4d8-de40-416b-95e9-8a7b1ae6d5ac",
   "metadata": {
    "tags": []
   },
   "outputs": [
    {
     "data": {
      "text/plain": [
       "194"
      ]
     },
     "execution_count": 15,
     "metadata": {},
     "output_type": "execute_result"
    }
   ],
   "source": [
    "10^200"
   ]
  },
  {
   "cell_type": "code",
   "execution_count": 16,
   "id": "42416550-638c-41e8-97c8-b63e227ed4ed",
   "metadata": {
    "tags": []
   },
   "outputs": [
    {
     "data": {
      "text/plain": [
       "100000000000000000000000000000000000000000000000000000000000000000000000000000000000000000000000000000000000000000000000000000000000000000000000000000000000000000000000000000000000000000000000000000000"
      ]
     },
     "execution_count": 16,
     "metadata": {},
     "output_type": "execute_result"
    }
   ],
   "source": [
    "10 ** 200"
   ]
  },
  {
   "cell_type": "code",
   "execution_count": 17,
   "id": "8c09f97f-007d-48c4-a446-e3dd6b72041c",
   "metadata": {
    "tags": []
   },
   "outputs": [
    {
     "data": {
      "text/plain": [
       "8"
      ]
     },
     "execution_count": 17,
     "metadata": {},
     "output_type": "execute_result"
    }
   ],
   "source": [
    "2 ** 3"
   ]
  },
  {
   "cell_type": "code",
   "execution_count": 18,
   "id": "813a3368-9285-4b2a-9745-843d1eb70142",
   "metadata": {
    "tags": []
   },
   "outputs": [
    {
     "data": {
      "text/plain": [
       "0"
      ]
     },
     "execution_count": 18,
     "metadata": {},
     "output_type": "execute_result"
    }
   ],
   "source": [
    "2 // 3"
   ]
  },
  {
   "cell_type": "code",
   "execution_count": 20,
   "id": "f9f767ad-77c3-4830-b66c-04032c7e3c75",
   "metadata": {
    "tags": []
   },
   "outputs": [
    {
     "data": {
      "text/plain": [
       "2"
      ]
     },
     "execution_count": 20,
     "metadata": {},
     "output_type": "execute_result"
    }
   ],
   "source": [
    "2 % 3"
   ]
  },
  {
   "cell_type": "code",
   "execution_count": 21,
   "id": "0f32b730-0272-4551-9871-3b9378efe620",
   "metadata": {
    "tags": []
   },
   "outputs": [
    {
     "data": {
      "text/plain": [
       "5.300000000000001"
      ]
     },
     "execution_count": 21,
     "metadata": {},
     "output_type": "execute_result"
    }
   ],
   "source": [
    "2.1 + 3.2"
   ]
  },
  {
   "cell_type": "code",
   "execution_count": 22,
   "id": "89fe0ee4-addc-4f7f-af5e-8c615eb32ded",
   "metadata": {
    "tags": []
   },
   "outputs": [
    {
     "ename": "ZeroDivisionError",
     "evalue": "float division by zero",
     "output_type": "error",
     "traceback": [
      "\u001b[0;31m---------------------------------------------------------------------------\u001b[0m",
      "\u001b[0;31mZeroDivisionError\u001b[0m                         Traceback (most recent call last)",
      "Cell \u001b[0;32mIn[22], line 1\u001b[0m\n\u001b[0;32m----> 1\u001b[0m \u001b[38;5;241m2.1\u001b[39m \u001b[38;5;241m/\u001b[39m \u001b[38;5;241m0.0\u001b[39m\n",
      "\u001b[0;31mZeroDivisionError\u001b[0m: float division by zero"
     ]
    }
   ],
   "source": [
    "2.1 / 0.0"
   ]
  },
  {
   "cell_type": "code",
   "execution_count": 23,
   "id": "131b1dd8-f77d-407c-8fca-679d81bd0f72",
   "metadata": {
    "tags": []
   },
   "outputs": [],
   "source": [
    "a = 2"
   ]
  },
  {
   "cell_type": "code",
   "execution_count": 24,
   "id": "ca21a154-44e5-4469-947a-3f2990134603",
   "metadata": {
    "tags": []
   },
   "outputs": [],
   "source": [
    "a = a + 4.1"
   ]
  },
  {
   "cell_type": "code",
   "execution_count": 25,
   "id": "aff06a24-5bbe-4c66-b0e1-92d953044f5d",
   "metadata": {
    "tags": []
   },
   "outputs": [
    {
     "ename": "SyntaxError",
     "evalue": "Missing parentheses in call to 'print'. Did you mean print(...)? (2947294964.py, line 1)",
     "output_type": "error",
     "traceback": [
      "\u001b[0;36m  Cell \u001b[0;32mIn[25], line 1\u001b[0;36m\u001b[0m\n\u001b[0;31m    print a\u001b[0m\n\u001b[0m    ^\u001b[0m\n\u001b[0;31mSyntaxError\u001b[0m\u001b[0;31m:\u001b[0m Missing parentheses in call to 'print'. Did you mean print(...)?\n"
     ]
    }
   ],
   "source": [
    "print a"
   ]
  },
  {
   "cell_type": "code",
   "execution_count": 26,
   "id": "287c20a7-4f73-4b6d-8ded-287af64ac2a4",
   "metadata": {
    "tags": []
   },
   "outputs": [
    {
     "name": "stdout",
     "output_type": "stream",
     "text": [
      "6.1\n"
     ]
    }
   ],
   "source": [
    "print(a)"
   ]
  },
  {
   "cell_type": "code",
   "execution_count": 27,
   "id": "64d9cbc3-a9d0-43c2-8c5f-b70fdeff2459",
   "metadata": {
    "tags": []
   },
   "outputs": [
    {
     "data": {
      "text/plain": [
       "3252"
      ]
     },
     "execution_count": 27,
     "metadata": {},
     "output_type": "execute_result"
    }
   ],
   "source": [
    "my_str = '3252'\n",
    "int(my_str)"
   ]
  },
  {
   "cell_type": "code",
   "execution_count": 28,
   "id": "b9df8eb9-addc-4935-9a4b-64853faddc75",
   "metadata": {
    "tags": []
   },
   "outputs": [
    {
     "data": {
      "text/plain": [
       "'3252'"
      ]
     },
     "execution_count": 28,
     "metadata": {},
     "output_type": "execute_result"
    }
   ],
   "source": [
    "str(3252)"
   ]
  },
  {
   "cell_type": "code",
   "execution_count": 29,
   "id": "7be0fcb9-10c0-41c1-9e1a-0b8672eac093",
   "metadata": {
    "tags": []
   },
   "outputs": [
    {
     "data": {
      "text/plain": [
       "2"
      ]
     },
     "execution_count": 29,
     "metadata": {},
     "output_type": "execute_result"
    }
   ],
   "source": [
    "int(2.9)"
   ]
  },
  {
   "cell_type": "code",
   "execution_count": 30,
   "id": "ac3b57cc-16a8-4cd4-98aa-cac979e38e16",
   "metadata": {
    "tags": []
   },
   "outputs": [
    {
     "data": {
      "text/plain": [
       "True"
      ]
     },
     "execution_count": 30,
     "metadata": {},
     "output_type": "execute_result"
    }
   ],
   "source": [
    "'michael jordan' > 'lebron james'"
   ]
  },
  {
   "cell_type": "code",
   "execution_count": 31,
   "id": "7dbe7958-32da-4dd0-a2ce-8830abc7405c",
   "metadata": {
    "tags": []
   },
   "outputs": [
    {
     "data": {
      "text/plain": [
       "109"
      ]
     },
     "execution_count": 31,
     "metadata": {},
     "output_type": "execute_result"
    }
   ],
   "source": [
    "ord('m')"
   ]
  },
  {
   "cell_type": "code",
   "execution_count": 32,
   "id": "345a6ebe-c476-4ae5-8369-730df8174b39",
   "metadata": {
    "tags": []
   },
   "outputs": [
    {
     "data": {
      "text/plain": [
       "108"
      ]
     },
     "execution_count": 32,
     "metadata": {},
     "output_type": "execute_result"
    }
   ],
   "source": [
    "ord('l')"
   ]
  },
  {
   "cell_type": "code",
   "execution_count": 33,
   "id": "b3bf2938-fa24-451a-a4c5-be5897edaa0e",
   "metadata": {
    "tags": []
   },
   "outputs": [
    {
     "data": {
      "text/plain": [
       "False"
      ]
     },
     "execution_count": 33,
     "metadata": {},
     "output_type": "execute_result"
    }
   ],
   "source": [
    "\"lebron\" == \"LeBron\""
   ]
  },
  {
   "cell_type": "code",
   "execution_count": 35,
   "id": "230b7194-c46b-4b9e-8414-1f6bd293f647",
   "metadata": {
    "tags": []
   },
   "outputs": [
    {
     "data": {
      "text/plain": [
       "True"
      ]
     },
     "execution_count": 35,
     "metadata": {},
     "output_type": "execute_result"
    }
   ],
   "source": [
    "a = 5.6\n",
    "b = 5.6\n",
    "\n",
    "a == b"
   ]
  },
  {
   "cell_type": "code",
   "execution_count": 36,
   "id": "c3523b52-b207-4bcf-ab8b-f0e15ea66397",
   "metadata": {
    "tags": []
   },
   "outputs": [
    {
     "data": {
      "text/plain": [
       "True"
      ]
     },
     "execution_count": 36,
     "metadata": {},
     "output_type": "execute_result"
    }
   ],
   "source": [
    "a is not b"
   ]
  },
  {
   "cell_type": "code",
   "execution_count": 37,
   "id": "233b92ab-a6d5-4db1-ab42-f54d263672cd",
   "metadata": {
    "tags": []
   },
   "outputs": [
    {
     "data": {
      "text/plain": [
       "True"
      ]
     },
     "execution_count": 37,
     "metadata": {},
     "output_type": "execute_result"
    }
   ],
   "source": [
    "not False or False"
   ]
  },
  {
   "cell_type": "code",
   "execution_count": 38,
   "id": "b235623f-0cf6-49f9-9c1b-24e2e40a0b7c",
   "metadata": {
    "tags": []
   },
   "outputs": [
    {
     "data": {
      "text/plain": [
       "2"
      ]
     },
     "execution_count": 38,
     "metadata": {},
     "output_type": "execute_result"
    }
   ],
   "source": [
    "True + True"
   ]
  },
  {
   "cell_type": "code",
   "execution_count": 39,
   "id": "b51a01de-1f9d-48e7-bbc4-f13876f90707",
   "metadata": {
    "tags": []
   },
   "outputs": [
    {
     "data": {
      "text/plain": [
       "1"
      ]
     },
     "execution_count": 39,
     "metadata": {},
     "output_type": "execute_result"
    }
   ],
   "source": [
    "True + False"
   ]
  },
  {
   "cell_type": "code",
   "execution_count": null,
   "id": "f09209d0-6463-44a7-9ffa-0c5ae61aa2ab",
   "metadata": {},
   "outputs": [],
   "source": [
    "if something is true\n",
    "    do task a\n",
    "otherwise: \n",
    "    do task b"
   ]
  },
  {
   "cell_type": "code",
   "execution_count": 45,
   "id": "3130b4c0-85a6-4450-8560-ce204ba72265",
   "metadata": {
    "tags": []
   },
   "outputs": [
    {
     "name": "stdout",
     "output_type": "stream",
     "text": [
      "This codon is neither a start nor a stop codon\n"
     ]
    }
   ],
   "source": [
    "codon = \"AGG\"\n",
    "stop_codons = (\"UAA\", \"UAG\", \"UGA\")\n",
    "\n",
    "if codon == \"AUG\":\n",
    "    print(\"This codon is a start codon.\")\n",
    "elif codon in stop_codons:\n",
    "    print(\"This codon is a stop codon\")\n",
    "else:\n",
    "    print(\"This codon is neither a start nor a stop codon\")"
   ]
  },
  {
   "cell_type": "code",
   "execution_count": 1,
   "id": "46565cd1-e647-4b7a-b9e1-cbc80ab6292e",
   "metadata": {},
   "outputs": [],
   "source": [
    "my_list_1 = [1, 2, 3, 4]"
   ]
  },
  {
   "cell_type": "code",
   "execution_count": 2,
   "id": "caa9cfce-aec9-4a4d-bd47-ec522ce14cb3",
   "metadata": {
    "tags": []
   },
   "outputs": [
    {
     "data": {
      "text/plain": [
       "list"
      ]
     },
     "execution_count": 2,
     "metadata": {},
     "output_type": "execute_result"
    }
   ],
   "source": [
    "type(my_list_1)"
   ]
  },
  {
   "cell_type": "code",
   "execution_count": 3,
   "id": "f9514f88-89b0-4440-a0a1-67e3d54c2517",
   "metadata": {
    "tags": []
   },
   "outputs": [],
   "source": [
    "my_list_2 = [1, 2.4, 'a string', ['a string in another list', 5]]"
   ]
  },
  {
   "cell_type": "code",
   "execution_count": 5,
   "id": "ec7b4177-f5d3-4026-bed9-8ba0aea568df",
   "metadata": {
    "tags": []
   },
   "outputs": [],
   "source": [
    "my_list_3 = [2 + 3, 5 * 3, 4 ** 2]"
   ]
  },
  {
   "cell_type": "code",
   "execution_count": 6,
   "id": "01d27818-a29e-4d05-94eb-9bbc2807e38e",
   "metadata": {
    "tags": []
   },
   "outputs": [
    {
     "data": {
      "text/plain": [
       "[1, 2, 3, 4, 5, 6]"
      ]
     },
     "execution_count": 6,
     "metadata": {},
     "output_type": "execute_result"
    }
   ],
   "source": [
    "[1, 2, 3] + [4, 5, 6]"
   ]
  },
  {
   "cell_type": "code",
   "execution_count": 7,
   "id": "7bed7d0c-5f28-4e84-95b3-3132d26f68a0",
   "metadata": {
    "tags": []
   },
   "outputs": [
    {
     "data": {
      "text/plain": [
       "[1, 2, 3, 1, 2, 3, 1, 2, 3]"
      ]
     },
     "execution_count": 7,
     "metadata": {},
     "output_type": "execute_result"
    }
   ],
   "source": [
    "[1, 2, 3] * 3"
   ]
  },
  {
   "cell_type": "code",
   "execution_count": 12,
   "id": "b25ea6e1-6036-4610-a6e0-8c2edf5efb72",
   "metadata": {
    "tags": []
   },
   "outputs": [
    {
     "data": {
      "text/plain": [
       "2.4"
      ]
     },
     "execution_count": 12,
     "metadata": {},
     "output_type": "execute_result"
    }
   ],
   "source": [
    "my_list = [1, 2.4, 'a string', ['a string in another list', 5]]\n",
    "\n",
    "my_list[1]"
   ]
  },
  {
   "cell_type": "code",
   "execution_count": 17,
   "id": "4f0f3583-ad8d-4c58-b8d6-160e5755acfc",
   "metadata": {
    "tags": []
   },
   "outputs": [
    {
     "data": {
      "text/plain": [
       "[0, 1, 2, 3, 4]"
      ]
     },
     "execution_count": 17,
     "metadata": {},
     "output_type": "execute_result"
    }
   ],
   "source": [
    "my_list = [0, 1, 2, 3, 4, 5, 6, 7, 8, 9, 10]\n",
    "my_list[0:5]"
   ]
  },
  {
   "cell_type": "code",
   "execution_count": 19,
   "id": "a52e9fea-0cba-498b-ac46-c2c4433497d9",
   "metadata": {
    "tags": []
   },
   "outputs": [
    {
     "data": {
      "text/plain": [
       "[3, 4, 5, 6, 7, 8, 9, 10]"
      ]
     },
     "execution_count": 19,
     "metadata": {},
     "output_type": "execute_result"
    }
   ],
   "source": [
    "my_list[3:1000]"
   ]
  },
  {
   "cell_type": "code",
   "execution_count": 20,
   "id": "be3058bb-54a2-4b02-ac8c-b49b9ab572ae",
   "metadata": {
    "tags": []
   },
   "outputs": [
    {
     "data": {
      "text/plain": [
       "[0, 2, 4, 6, 8, 10]"
      ]
     },
     "execution_count": 20,
     "metadata": {},
     "output_type": "execute_result"
    }
   ],
   "source": [
    "my_list[0::2]"
   ]
  },
  {
   "cell_type": "code",
   "execution_count": 24,
   "id": "2695a81f-6fae-4ebc-938d-0ca3a30a6d09",
   "metadata": {
    "tags": []
   },
   "outputs": [
    {
     "data": {
      "text/plain": [
       "[0, 2, 4, 6, 8, 10]"
      ]
     },
     "execution_count": 24,
     "metadata": {},
     "output_type": "execute_result"
    }
   ],
   "source": [
    "my_list[::2]"
   ]
  },
  {
   "cell_type": "code",
   "execution_count": 25,
   "id": "e83c9e84-a807-4844-8f20-600e042007ae",
   "metadata": {
    "tags": []
   },
   "outputs": [
    {
     "data": {
      "text/plain": [
       "[0, 2, 4, 6]"
      ]
     },
     "execution_count": 25,
     "metadata": {},
     "output_type": "execute_result"
    }
   ],
   "source": [
    "my_list[:8:2]"
   ]
  },
  {
   "cell_type": "code",
   "execution_count": 26,
   "id": "b49c0c41-000e-400f-98d0-0a721960853d",
   "metadata": {
    "tags": []
   },
   "outputs": [
    {
     "data": {
      "text/plain": [
       "[10, 9, 8, 7, 6, 5, 4, 3, 2, 1, 0]"
      ]
     },
     "execution_count": 26,
     "metadata": {},
     "output_type": "execute_result"
    }
   ],
   "source": [
    "my_list[::-1]"
   ]
  },
  {
   "cell_type": "code",
   "execution_count": 27,
   "id": "28585307-d1a1-41c0-b4de-80caf7c227a2",
   "metadata": {
    "tags": []
   },
   "outputs": [
    {
     "data": {
      "text/plain": [
       "[]"
      ]
     },
     "execution_count": 27,
     "metadata": {},
     "output_type": "execute_result"
    }
   ],
   "source": [
    "my_list[0:10:-1]"
   ]
  },
  {
   "cell_type": "code",
   "execution_count": 29,
   "id": "f362f792-af03-4fbb-9e29-42d07e0479a9",
   "metadata": {
    "tags": []
   },
   "outputs": [
    {
     "data": {
      "text/plain": [
       "[10, 9, 8, 7, 6, 5, 4, 3, 2, 1]"
      ]
     },
     "execution_count": 29,
     "metadata": {},
     "output_type": "execute_result"
    }
   ],
   "source": [
    "my_list[10:0:-1]"
   ]
  },
  {
   "cell_type": "code",
   "execution_count": 31,
   "id": "0fda911d-9e04-48e3-a381-986c61419789",
   "metadata": {
    "tags": []
   },
   "outputs": [
    {
     "data": {
      "text/plain": [
       "4404529664"
      ]
     },
     "execution_count": 31,
     "metadata": {},
     "output_type": "execute_result"
    }
   ],
   "source": [
    "my_list[4] = 'four'\n",
    "id(my_list)"
   ]
  },
  {
   "cell_type": "code",
   "execution_count": 36,
   "id": "1e1d0ead-6fa5-400d-a3c7-e0560a05930e",
   "metadata": {
    "tags": []
   },
   "outputs": [
    {
     "data": {
      "text/plain": [
       "[0, 1, 2, 3, 'four', 5, 6, 7, 8, 9, 10, 11, 11, 11]"
      ]
     },
     "execution_count": 36,
     "metadata": {},
     "output_type": "execute_result"
    }
   ],
   "source": [
    "my_list += [11]\n",
    "my_list"
   ]
  },
  {
   "cell_type": "code",
   "execution_count": 37,
   "id": "620d96eb-090f-42da-8188-434a8b4116ec",
   "metadata": {
    "tags": []
   },
   "outputs": [
    {
     "data": {
      "text/plain": [
       "4404529664"
      ]
     },
     "execution_count": 37,
     "metadata": {},
     "output_type": "execute_result"
    }
   ],
   "source": [
    "id(my_list)"
   ]
  },
  {
   "cell_type": "code",
   "execution_count": 38,
   "id": "07652ffd-e86c-49d6-b3bd-587bc47301ef",
   "metadata": {
    "tags": []
   },
   "outputs": [],
   "source": [
    "my_tuble = tuple(my_list)"
   ]
  },
  {
   "cell_type": "code",
   "execution_count": 39,
   "id": "d7d83b67-cd73-4e02-a554-da1ac8019118",
   "metadata": {
    "tags": []
   },
   "outputs": [
    {
     "data": {
      "text/plain": [
       "(0, 1, 2, 3, 'four', 5, 6, 7, 8, 9, 10, 11, 11, 11)"
      ]
     },
     "execution_count": 39,
     "metadata": {},
     "output_type": "execute_result"
    }
   ],
   "source": [
    "my_tuble"
   ]
  },
  {
   "cell_type": "code",
   "execution_count": 40,
   "id": "4c78835e-0f2a-4eb9-a6c9-d4d486e77e47",
   "metadata": {
    "tags": []
   },
   "outputs": [
    {
     "data": {
      "text/plain": [
       "[]"
      ]
     },
     "execution_count": 40,
     "metadata": {},
     "output_type": "execute_result"
    }
   ],
   "source": [
    "[]"
   ]
  },
  {
   "cell_type": "code",
   "execution_count": 41,
   "id": "c5c82ad5-d06b-4ed1-8c60-4b0b5b2ffcda",
   "metadata": {
    "tags": []
   },
   "outputs": [
    {
     "data": {
      "text/plain": [
       "list"
      ]
     },
     "execution_count": 41,
     "metadata": {},
     "output_type": "execute_result"
    }
   ],
   "source": [
    "type([])"
   ]
  },
  {
   "cell_type": "code",
   "execution_count": 42,
   "id": "4cbdb933-44f2-4493-bee1-c987592334fe",
   "metadata": {
    "tags": []
   },
   "outputs": [
    {
     "data": {
      "text/plain": [
       "()"
      ]
     },
     "execution_count": 42,
     "metadata": {},
     "output_type": "execute_result"
    }
   ],
   "source": [
    "()"
   ]
  },
  {
   "cell_type": "code",
   "execution_count": 43,
   "id": "f15d2379-c10e-49ef-891c-851548c16c6c",
   "metadata": {
    "tags": []
   },
   "outputs": [
    {
     "data": {
      "text/plain": [
       "tuple"
      ]
     },
     "execution_count": 43,
     "metadata": {},
     "output_type": "execute_result"
    }
   ],
   "source": [
    "type(())"
   ]
  },
  {
   "cell_type": "code",
   "execution_count": 44,
   "id": "455593e8-8d6f-469a-8ea9-3be9e6a3cb53",
   "metadata": {
    "tags": []
   },
   "outputs": [
    {
     "ename": "TypeError",
     "evalue": "'tuple' object does not support item assignment",
     "output_type": "error",
     "traceback": [
      "\u001b[0;31m---------------------------------------------------------------------------\u001b[0m",
      "\u001b[0;31mTypeError\u001b[0m                                 Traceback (most recent call last)",
      "Cell \u001b[0;32mIn[44], line 1\u001b[0m\n\u001b[0;32m----> 1\u001b[0m my_tuble[\u001b[38;5;241m4\u001b[39m] \u001b[38;5;241m=\u001b[39m \u001b[38;5;124m'\u001b[39m\u001b[38;5;124mfour\u001b[39m\u001b[38;5;124m'\u001b[39m\n",
      "\u001b[0;31mTypeError\u001b[0m: 'tuple' object does not support item assignment"
     ]
    }
   ],
   "source": [
    "my_tuble[4] = 'four'"
   ]
  },
  {
   "cell_type": "code",
   "execution_count": 47,
   "id": "7f0e7842-b3ed-4f99-9287-d25286061932",
   "metadata": {
    "tags": []
   },
   "outputs": [
    {
     "data": {
      "text/plain": [
       "0.46153846153846156"
      ]
     },
     "execution_count": 47,
     "metadata": {},
     "output_type": "execute_result"
    }
   ],
   "source": [
    "# The sequence we want to analyze\n",
    "seq = 'AGGGTACCATAGGGCATCATTCGTAA'\n",
    "\n",
    "# Initialize GC counter\n",
    "n_gc = 0\n",
    "\n",
    "# Initialize sequence length\n",
    "len_seq = 0\n",
    "\n",
    "# Loop through sequence and count G's and C's\n",
    "for base in seq:\n",
    "    len_seq += 1\n",
    "    if base in 'GCgc':\n",
    "        n_gc += 1\n",
    "\n",
    "# Divide to get GC content\n",
    "n_gc / len_seq"
   ]
  },
  {
   "cell_type": "code",
   "execution_count": 49,
   "id": "20b9a252-7785-4d5e-899f-396a05dca9ed",
   "metadata": {
    "tags": []
   },
   "outputs": [],
   "source": [
    "def answer_to_the_ultimate_question_of_life_the_universe_and_everything():\n",
    "    \"\"\"Simpler program than Deep Thought's, I bet.\"\"\"\n",
    "    return 42"
   ]
  },
  {
   "cell_type": "code",
   "execution_count": 57,
   "id": "c07bab55-dd71-425c-8732-e480ed4aa087",
   "metadata": {
    "tags": []
   },
   "outputs": [],
   "source": [
    "def complement_base(base, material='DNA'):\n",
    "    \"\"\"Returns the Watson-Crick complement of a base.\"\"\"\n",
    "    if base in 'Aa':\n",
    "        if material == 'DNA':\n",
    "            out = 'T'\n",
    "        elif material == 'RNA':\n",
    "            out = 'U'\n",
    "    elif base in 'TtUu':\n",
    "        out = 'A'\n",
    "    elif base in 'Gg':\n",
    "        out = 'C'\n",
    "    else:\n",
    "        out = 'G'\n",
    "        \n",
    "    return out\n",
    "\n",
    "\n",
    "def reverse_complement(seq, material='DNA'):\n",
    "    \"\"\"Compute reverse complement of a sequence.\"\"\"\n",
    "    # Initialize reverse complement\n",
    "    rev_seq = ''\n",
    "\n",
    "    # Loop through and populate list with reverse complement\n",
    "    for base in reversed(seq):\n",
    "        rev_seq += complement_base(base, material=material)\n",
    "\n",
    "    return rev_seq"
   ]
  },
  {
   "cell_type": "code",
   "execution_count": 58,
   "id": "38702915-cee5-4115-937d-466997959173",
   "metadata": {
    "tags": []
   },
   "outputs": [
    {
     "data": {
      "text/plain": [
       "'TGCAACTGC'"
      ]
     },
     "execution_count": 58,
     "metadata": {},
     "output_type": "execute_result"
    }
   ],
   "source": [
    "reverse_complement('GCAGTTGCA', material='DNA')"
   ]
  },
  {
   "cell_type": "code",
   "execution_count": 59,
   "id": "30bcacbf-9afd-4291-91e0-8afb7b5fa42f",
   "metadata": {
    "tags": []
   },
   "outputs": [
    {
     "data": {
      "text/plain": [
       "'UGCAACUGC'"
      ]
     },
     "execution_count": 59,
     "metadata": {},
     "output_type": "execute_result"
    }
   ],
   "source": [
    "reverse_complement('GCAGTTGCA', material='RNA')"
   ]
  },
  {
   "cell_type": "code",
   "execution_count": 60,
   "id": "6eb9da89-368f-4845-a651-0b45457ea970",
   "metadata": {},
   "outputs": [
    {
     "name": "stdout",
     "output_type": "stream",
     "text": [
      "Python implementation: CPython\n",
      "Python version       : 3.11.4\n",
      "IPython version      : 8.12.2\n",
      "\n",
      "jupyterlab: 3.6.3\n",
      "\n"
     ]
    }
   ],
   "source": [
    "%load_ext watermark\n",
    "%watermark -v -p jupyterlab"
   ]
  },
  {
   "cell_type": "code",
   "execution_count": null,
   "id": "682a7b07-ac5a-4fba-8194-1c7e4af83b05",
   "metadata": {},
   "outputs": [],
   "source": []
  }
 ],
 "metadata": {
  "kernelspec": {
   "display_name": "Python 3 (ipykernel)",
   "language": "python",
   "name": "python3"
  },
  "language_info": {
   "codemirror_mode": {
    "name": "ipython",
    "version": 3
   },
   "file_extension": ".py",
   "mimetype": "text/x-python",
   "name": "python",
   "nbconvert_exporter": "python",
   "pygments_lexer": "ipython3",
   "version": "3.11.4"
  }
 },
 "nbformat": 4,
 "nbformat_minor": 5
}
