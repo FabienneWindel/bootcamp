{
 "cells": [
  {
   "cell_type": "markdown",
   "id": "4d028b32-b06b-4639-a1b9-11a7e33718e3",
   "metadata": {},
   "source": [
    "# Exercise 4.2: Computing things!"
   ]
  },
  {
   "cell_type": "code",
   "execution_count": 27,
   "id": "5d520c8e-7c78-4d10-9500-d824161f5da0",
   "metadata": {
    "tags": []
   },
   "outputs": [],
   "source": [
    "import pandas as pd\n",
    "import numpy as np"
   ]
  },
  {
   "cell_type": "code",
   "execution_count": 28,
   "id": "f4e3cb9a-2ff7-44d9-be42-2a8288e591c5",
   "metadata": {
    "tags": []
   },
   "outputs": [],
   "source": [
    "df = pd.read_csv('data/c_elegans_egg_xa.csv', comment='#')\n",
    "\n",
    "xa_high = df.loc[df['food']=='high', 'area (sq. um)'].values\n",
    "xa_low = df.loc[df['food']=='low', 'area (sq. um)'].values"
   ]
  },
  {
   "cell_type": "code",
   "execution_count": 29,
   "id": "5c8a04dc-da1f-45d8-8d7a-1d85e434e8ab",
   "metadata": {
    "tags": []
   },
   "outputs": [
    {
     "data": {
      "text/html": [
       "<div>\n",
       "<style scoped>\n",
       "    .dataframe tbody tr th:only-of-type {\n",
       "        vertical-align: middle;\n",
       "    }\n",
       "\n",
       "    .dataframe tbody tr th {\n",
       "        vertical-align: top;\n",
       "    }\n",
       "\n",
       "    .dataframe thead th {\n",
       "        text-align: right;\n",
       "    }\n",
       "</style>\n",
       "<table border=\"1\" class=\"dataframe\">\n",
       "  <thead>\n",
       "    <tr style=\"text-align: right;\">\n",
       "      <th></th>\n",
       "      <th>food</th>\n",
       "      <th>area (sq. um)</th>\n",
       "    </tr>\n",
       "  </thead>\n",
       "  <tbody>\n",
       "    <tr>\n",
       "      <th>0</th>\n",
       "      <td>high</td>\n",
       "      <td>1683</td>\n",
       "    </tr>\n",
       "    <tr>\n",
       "      <th>1</th>\n",
       "      <td>high</td>\n",
       "      <td>2061</td>\n",
       "    </tr>\n",
       "    <tr>\n",
       "      <th>2</th>\n",
       "      <td>high</td>\n",
       "      <td>1792</td>\n",
       "    </tr>\n",
       "    <tr>\n",
       "      <th>3</th>\n",
       "      <td>high</td>\n",
       "      <td>1852</td>\n",
       "    </tr>\n",
       "    <tr>\n",
       "      <th>4</th>\n",
       "      <td>high</td>\n",
       "      <td>2091</td>\n",
       "    </tr>\n",
       "    <tr>\n",
       "      <th>...</th>\n",
       "      <td>...</td>\n",
       "      <td>...</td>\n",
       "    </tr>\n",
       "    <tr>\n",
       "      <th>96</th>\n",
       "      <td>low</td>\n",
       "      <td>2143</td>\n",
       "    </tr>\n",
       "    <tr>\n",
       "      <th>97</th>\n",
       "      <td>low</td>\n",
       "      <td>2252</td>\n",
       "    </tr>\n",
       "    <tr>\n",
       "      <th>98</th>\n",
       "      <td>low</td>\n",
       "      <td>2222</td>\n",
       "    </tr>\n",
       "    <tr>\n",
       "      <th>99</th>\n",
       "      <td>low</td>\n",
       "      <td>2121</td>\n",
       "    </tr>\n",
       "    <tr>\n",
       "      <th>100</th>\n",
       "      <td>low</td>\n",
       "      <td>2409</td>\n",
       "    </tr>\n",
       "  </tbody>\n",
       "</table>\n",
       "<p>101 rows × 2 columns</p>\n",
       "</div>"
      ],
      "text/plain": [
       "     food  area (sq. um)\n",
       "0    high           1683\n",
       "1    high           2061\n",
       "2    high           1792\n",
       "3    high           1852\n",
       "4    high           2091\n",
       "..    ...            ...\n",
       "96    low           2143\n",
       "97    low           2252\n",
       "98    low           2222\n",
       "99    low           2121\n",
       "100   low           2409\n",
       "\n",
       "[101 rows x 2 columns]"
      ]
     },
     "execution_count": 29,
     "metadata": {},
     "output_type": "execute_result"
    }
   ],
   "source": [
    "df"
   ]
  },
  {
   "cell_type": "code",
   "execution_count": 31,
   "id": "87a0c42b-98b0-49b8-8e12-a98c3f8154fc",
   "metadata": {
    "tags": []
   },
   "outputs": [
    {
     "name": "stdout",
     "output_type": "stream",
     "text": [
      "[46.29105911 51.22642581 47.76657057 48.5596503  51.59790585 47.61973991\n",
      " 49.33998388 47.89966242 47.21697198 46.94654036 49.08125119 49.84064959\n",
      " 47.9926071  46.29105911 47.69988539 48.40207395 48.15152345 49.3141717\n",
      " 49.57168871 47.87307365 48.30991705 46.29105911 46.12573337 46.24978308\n",
      " 46.41466697 47.87307365 48.15152345 48.95137203 45.72372833 47.18999856\n",
      " 46.68817945 45.98750791 46.53794651 52.2111661  48.70364742 47.23045291\n",
      " 47.06842687 46.81073869 45.97366251 49.57168871 50.8397116  48.54653847\n",
      " 52.08909166 48.24398292 48.40207395 51.58556628 52.55146594 50.31103472\n",
      " 53.06982074 54.57203767 50.32368681 52.24773281 53.99739399 49.44309786\n",
      " 53.87936676 47.9926071  52.41804019 47.87307365 52.11352942 51.21399674\n",
      " 52.44232467 50.47526453 50.8397116  51.56087828 49.84064959 55.96578669\n",
      " 50.72688754 50.58864976 52.18677405 52.44232467 51.78264653 52.57568879\n",
      " 51.86863366 52.67246879 49.05530287 52.67246879 50.72688754 50.07003758\n",
      " 52.32078957 49.18490759 53.72554372 46.67454189 49.19784929 51.88090591\n",
      " 51.85635852 54.8280819  52.07686848 51.22642581 51.96673046 48.29673743\n",
      " 53.04582353 52.07686848 52.35727972 50.57606396 51.70882946 53.54750652\n",
      " 52.23554675 53.54750652 53.18964437 51.96673046 55.38261517]\n"
     ]
    }
   ],
   "source": [
    "def xa_to_diameter(xa):\n",
    "    # Calculate the diameters using the formula A = πd^2/4 => d^2 = 4A/π => d = sqrt(4A/π)\n",
    "    diameters = np.sqrt(4 * np.array(xa) / np.pi)\n",
    "    return diameters\n",
    "\n",
    "cross_sectional_areas = df['area (sq. um)'].values\n",
    "diameters = xa_to_diameter(cross_sectional_areas)\n",
    "print(diameters)"
   ]
  },
  {
   "cell_type": "markdown",
   "id": "6cc0ee7c-39cc-4804-8361-88123b722aa7",
   "metadata": {},
   "source": [
    "# Exercise 4.3: Working with two-dimensional arrays"
   ]
  },
  {
   "cell_type": "code",
   "execution_count": 32,
   "id": "a658af3c-6354-4ce6-99c1-87f09b553c2b",
   "metadata": {
    "tags": []
   },
   "outputs": [],
   "source": [
    "A = np.array(\n",
    "    [\n",
    "        [6.7, 1.3, 0.6, 0.7],\n",
    "        [0.1, 5.5, 0.4, 2.4],\n",
    "        [1.1, 0.8, 4.5, 1.7],\n",
    "        [0.0, 1.5, 3.4, 7.5],\n",
    "    ]\n",
    ")\n",
    "\n",
    "b = np.array([1.1, 2.3, 3.3, 3.9])"
   ]
  },
  {
   "cell_type": "code",
   "execution_count": null,
   "id": "0d7d71ae-5e19-4ed0-a031-6bab20be7756",
   "metadata": {},
   "outputs": [],
   "source": []
  }
 ],
 "metadata": {
  "kernelspec": {
   "display_name": "Python 3 (ipykernel)",
   "language": "python",
   "name": "python3"
  },
  "language_info": {
   "codemirror_mode": {
    "name": "ipython",
    "version": 3
   },
   "file_extension": ".py",
   "mimetype": "text/x-python",
   "name": "python",
   "nbconvert_exporter": "python",
   "pygments_lexer": "ipython3",
   "version": "3.11.4"
  }
 },
 "nbformat": 4,
 "nbformat_minor": 5
}
