{
 "cells": [
  {
   "cell_type": "markdown",
   "id": "d71b87dd-48f6-4bea-8d95-97ea8b394d4d",
   "metadata": {},
   "source": [
    "# Hacker stats I"
   ]
  },
  {
   "cell_type": "code",
   "execution_count": null,
   "id": "75b1b3ce-df4f-4404-9f84-f0fc64c61538",
   "metadata": {},
   "outputs": [],
   "source": [
    "import numpy as np\n",
    "import pandas as pd\n",
    "\n",
    "import iqplot\n",
    "\n",
    "import bokeh.io\n",
    "import bokeh.plotting\n",
    "\n",
    "bokeh.io.output_notebook()"
   ]
  }
 ],
 "metadata": {
  "kernelspec": {
   "display_name": "Python 3 (ipykernel)",
   "language": "python",
   "name": "python3"
  },
  "language_info": {
   "codemirror_mode": {
    "name": "ipython",
    "version": 3
   },
   "file_extension": ".py",
   "mimetype": "text/x-python",
   "name": "python",
   "nbconvert_exporter": "python",
   "pygments_lexer": "ipython3",
   "version": "3.11.4"
  }
 },
 "nbformat": 4,
 "nbformat_minor": 5
}
