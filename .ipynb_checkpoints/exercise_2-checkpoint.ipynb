{
 "cells": [
  {
   "cell_type": "markdown",
   "id": "bd963a27-0d5b-4a40-85ba-af48f281fc31",
   "metadata": {
    "tags": []
   },
   "source": [
    "# Exercise 2.1: Parsing a FASTA file"
   ]
  },
  {
   "cell_type": "code",
   "execution_count": 5,
   "id": "1176d7b0-b80a-47af-af09-b82ff79fedab",
   "metadata": {
    "tags": []
   },
   "outputs": [],
   "source": [
    "import os\n",
    "import glob"
   ]
  },
  {
   "cell_type": "code",
   "execution_count": 3,
   "id": "883fda6d-861c-4164-b66d-22aa4ec8b964",
   "metadata": {
    "tags": []
   },
   "outputs": [
    {
     "name": "stdout",
     "output_type": "stream",
     "text": [
      "/Users/fabienne/git/bootcamp/data\n"
     ]
    }
   ],
   "source": [
    "cd data"
   ]
  },
  {
   "cell_type": "code",
   "execution_count": 35,
   "id": "1817ea0f-d3fc-45da-a4d6-764f3f0c7261",
   "metadata": {
    "collapsed": true,
    "jupyter": {
     "outputs_hidden": true
    },
    "tags": []
   },
   "outputs": [
    {
     "data": {
      "text/plain": [
       "['>gi|821161554|gb|CP011428.1| Salmonella enterica subsp. enterica strain YU39, complete genome, subsequence 3000000 to 3200000\\n',\n",
       " 'AAAACCTTAGTAACTGGACTGCTGGGATTTTTCAGCCTGGATACGCTGGTAGATCTCTTC\\n',\n",
       " 'ACGATGGACAGAAACTTCTTTCGGGGCGTTCACGCCAATACGCACCTGGTTGCCCTTCAC\\n',\n",
       " 'CCCTAAAACTGTCACGGTGACCTCATCGCCAATCATGAGGGTCTCACCAACTCGACGAGT\\n',\n",
       " 'CAGAATCAGCATTCTTTGCTCCTTGAAAGATTAAAAGAGTCGGGTCTCTCTGTATCCCGG\\n',\n",
       " 'CATTATCCATCATATAACGCCAAAAAGTAAGCGATGACAAACACCTTAGGTGTAAGCAGT\\n',\n",
       " 'CATGGCATTACATTCTGTTAAACCTAAGTTTAGCCGATATACAAAACTTCAACCTGACTT\\n',\n",
       " 'TATCGTTGTCGATAGCGTTGACGTAAACGCCGCAGCACGGGCTGCGGCGCCAACGAACGC\\n',\n",
       " 'TTATAATTATTGCAATTTTGCGCTGACCCAGCCTTGTACACTGGCTAACGCTGCAGGCAG\\n',\n",
       " 'AGCTGCCGCATCCGTACCACCGGCTTGCGCCATGTCCGGACGACCGCCACCCTTACCGCC\\n']"
      ]
     },
     "execution_count": 35,
     "metadata": {},
     "output_type": "execute_result"
    }
   ],
   "source": [
    "with open('salmonella_spi1_region.fna', 'r') as f:\n",
    "    f_list = f.readlines()\n",
    "    \n",
    "f_list[:10]"
   ]
  },
  {
   "cell_type": "code",
   "execution_count": 56,
   "id": "512a872c-cfb1-4327-a3de-c1a063887f37",
   "metadata": {
    "tags": []
   },
   "outputs": [
    {
     "name": "stdout",
     "output_type": "stream",
     "text": [
      "['>gi|821161554|gb|CP011428.1| Salmonella enterica subsp. enterica strain YU39, complete genome, subsequence 3000000 to 3200000\\n'] \n",
      " AAAACCTTAGTAACTGGACTGCTGGGATTTTTCAGCCTGGATACGCTGGTAGATCTCTTACGATGGACAGAAACTTCTTTCGGGGCGTTCACGCCAATACGCACCTGGTTGCCCTTCACCCTAAAACTGTCACGGTGACCTCATCGCCAATCATGAGGGTCTCACCAACTCGACGAGCAGAATCAGCATTCTTTGCTCCTTGAAAGATTAAAAGAGTCGGGTCTCTCTGTATCCCGCATTATCCATCATATAACGCCAAAAAGTAAGCGATGACAAACACCTTAGGTGTAAGCAGCATGG\n"
     ]
    }
   ],
   "source": [
    "fasta_file = 'salmonella_spi1_region.fna'\n",
    "\n",
    "def pars_fasta_file (fasta_file):\n",
    "    with open(fasta_file, 'r') as f:\n",
    "        f_list = f.readlines()\n",
    "        descriptor_string = f_list[:1]\n",
    "        sequence_list = f_list[1:]\n",
    "        full_sequence = ''\n",
    "        \n",
    "        for line_in_f_list in sequence_list:\n",
    "            full_sequence = full_sequence + line_in_f_list[:-2]\n",
    "        return descriptor_string, full_sequence\n",
    "    \n",
    "descriptor_string, full_sequence = pars_fasta_file(fasta_file)\n",
    "print(descriptor_string, \"\\n\", full_sequence[:300])\n"
   ]
  },
  {
   "cell_type": "code",
   "execution_count": 48,
   "id": "19987530-311d-41c3-90a8-b60c3ba6a1d0",
   "metadata": {
    "tags": []
   },
   "outputs": [],
   "source": [
    "def readfasta(fasta_file):\n",
    "    seq = ''\n",
    "    \n",
    "    with open(fasta_file,'r') as f:\n",
    "        for i, line in enumerate(f):\n",
    "            # here I enumerate thelines of my f and attribute an index to each line\n",
    "            if i == 0:\n",
    "                descriptor = line.rstrip()\n",
    "            # if my index is 0 = which is the first line, I want to trip the rest \n",
    "            else:\n",
    "                seq += line.rstrip()\n",
    "            # for the sequence, starting at index 1, I want to remove the spaces (so i use the rstrip) and append all the given lines into one file (my empty sequence here) \n",
    "                \n",
    "    return descriptor, seq\n",
    "                \n",
    "descriptor, seq = readfasta('salmonella_spi1_region.fna')"
   ]
  },
  {
   "cell_type": "code",
   "execution_count": 49,
   "id": "02c42ca5-7189-4109-a8f4-cd60d7dc47dc",
   "metadata": {
    "tags": []
   },
   "outputs": [
    {
     "data": {
      "text/plain": [
       "'>gi|821161554|gb|CP011428.1| Salmonella enterica subsp. enterica strain YU39, complete genome, subsequence 3000000 to 3200000'"
      ]
     },
     "execution_count": 49,
     "metadata": {},
     "output_type": "execute_result"
    }
   ],
   "source": [
    "descriptor"
   ]
  },
  {
   "cell_type": "code",
   "execution_count": 50,
   "id": "bfa6adad-4c57-4225-8034-40816e429fae",
   "metadata": {
    "tags": []
   },
   "outputs": [
    {
     "data": {
      "text/plain": [
       "'AAAACCTTAG'"
      ]
     },
     "execution_count": 50,
     "metadata": {},
     "output_type": "execute_result"
    }
   ],
   "source": [
    "seq [:10]"
   ]
  },
  {
   "cell_type": "markdown",
   "id": "972003b2-88bb-4dd2-b0dd-ef9028d7394b",
   "metadata": {},
   "source": [
    "# Exercise 2.2: Restriction enzyme cut sites"
   ]
  },
  {
   "cell_type": "code",
   "execution_count": 57,
   "id": "9f4b87bc-e935-4040-a2f9-06d1df4f1400",
   "metadata": {},
   "outputs": [
    {
     "ename": "SyntaxError",
     "evalue": "expected ':' (55757603.py, line 1)",
     "output_type": "error",
     "traceback": [
      "\u001b[0;36m  Cell \u001b[0;32mIn[57], line 1\u001b[0;36m\u001b[0m\n\u001b[0;31m    def restriction_sites(seq, recog_seq)\u001b[0m\n\u001b[0m                                         ^\u001b[0m\n\u001b[0;31mSyntaxError\u001b[0m\u001b[0;31m:\u001b[0m expected ':'\n"
     ]
    }
   ],
   "source": [
    "_, full_sequence = pars_fasta_file (\"lambda_phage.txt\")\n",
    "\n",
    "def complement_seq(seq):\n",
    "    \n",
    "    if material == 'DNA':\n",
    "        complement_table = str.maketrans('ATCG', 'TAGC')\n",
    "\n",
    "    # Compute the complemented sequence and reverse it\n",
    "    complemented_seq = seq.translate(complement_table)\n",
    "\n",
    "    return complemented_seq\n",
    "\n",
    "def restriction_sites(seq, recog_seq)\n",
    "    recog_complement = complement_seq(recog_seg)\n",
    "    if \n",
    "    "
   ]
  }
 ],
 "metadata": {
  "kernelspec": {
   "display_name": "Python 3 (ipykernel)",
   "language": "python",
   "name": "python3"
  },
  "language_info": {
   "codemirror_mode": {
    "name": "ipython",
    "version": 3
   },
   "file_extension": ".py",
   "mimetype": "text/x-python",
   "name": "python",
   "nbconvert_exporter": "python",
   "pygments_lexer": "ipython3",
   "version": "3.11.4"
  }
 },
 "nbformat": 4,
 "nbformat_minor": 5
}
